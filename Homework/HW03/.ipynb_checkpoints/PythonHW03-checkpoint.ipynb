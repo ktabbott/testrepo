{
 "cells": [
  {
   "cell_type": "markdown",
   "metadata": {},
   "source": [
    "# Python HW03"
   ]
  },
  {
   "cell_type": "markdown",
   "metadata": {},
   "source": [
    "**New Python Concepts:**\n",
    "- `if/else` flow control"
   ]
  },
  {
   "cell_type": "markdown",
   "metadata": {},
   "source": [
    "**Question 1**\n",
    "\n",
    "Use a `for` loop with `if/else` blocks to determine if the following statments are equivalent.\n",
    "\n",
    "$$s:\\ \\sim (\\sim p\\ \\vee q)\\ \\wedge \\sim (\\sim p\\ \\vee r)$$\n",
    "$$t:\\ \\sim p\\ \\vee \\sim (\\sim q\\ \\wedge \\sim r)\\ \\hspace{0.45in} \\ $$\n",
    "\n",
    "Be sure that your code prints your final answer."
   ]
  },
  {
   "cell_type": "code",
   "execution_count": null,
   "metadata": {
    "collapsed": true
   },
   "outputs": [],
   "source": []
  },
  {
   "cell_type": "markdown",
   "metadata": {},
   "source": [
    "Save this file to your computer and upload it to blackboard."
   ]
  }
 ],
 "metadata": {
  "@webio": {
   "lastCommId": "627ee3665a8e436b8069d3fc53a6c00d",
   "lastKernelId": "74fd0716-3a1b-4638-8348-7f4e3c2ed86a"
  },
  "kernelspec": {
   "display_name": "Python 3",
   "language": "python",
   "name": "python3"
  },
  "language_info": {
   "codemirror_mode": {
    "name": "ipython",
    "version": 3
   },
   "file_extension": ".py",
   "mimetype": "text/x-python",
   "name": "python",
   "nbconvert_exporter": "python",
   "pygments_lexer": "ipython3",
   "version": "3.7.3"
  }
 },
 "nbformat": 4,
 "nbformat_minor": 2
}
