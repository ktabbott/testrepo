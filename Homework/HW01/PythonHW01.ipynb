{
 "cells": [
  {
   "cell_type": "markdown",
   "metadata": {},
   "source": [
    "# Python HW01"
   ]
  },
  {
   "cell_type": "markdown",
   "metadata": {},
   "source": [
    "**New Python Concepts**\n",
    "- variables and assignment\n",
    "- data types (strings, ints, floats, boolean)\n",
    "- print statements\n",
    "- boolean operations"
   ]
  },
  {
   "cell_type": "markdown",
   "metadata": {},
   "source": [
    "**Question 1**\n",
    "\n",
    "In the block below, write the code to store the text *Hello World* in a variable, and then print the value of that variable"
   ]
  },
  {
   "cell_type": "code",
   "execution_count": null,
   "metadata": {
    "collapsed": true
   },
   "outputs": [],
   "source": []
  },
  {
   "cell_type": "markdown",
   "metadata": {},
   "source": [
    "**Question 2**\n",
    "\n",
    "Consider the following proposition\n",
    "<center><i>The sky is dark and the ground is wet and it is raining or the ground is wet and it is not raining.</i></center>\n",
    "\n",
    "and define propositional variables as follows.\n",
    "* $p$:  The sky is dark.\n",
    "* $q$:  The ground is wet.\n",
    "* $r$:  It is raining.\n",
    "\n",
    "Represent this compound propositon symbolically and use python to determine its truth value when $p$ is true, $q$ is false, and $r$ is true."
   ]
  },
  {
   "cell_type": "code",
   "execution_count": null,
   "metadata": {
    "collapsed": true
   },
   "outputs": [],
   "source": []
  }
 ],
 "metadata": {
  "kernelspec": {
   "display_name": "Python 3",
   "language": "python",
   "name": "python3"
  },
  "language_info": {
   "codemirror_mode": {
    "name": "ipython",
    "version": 3
   },
   "file_extension": ".py",
   "mimetype": "text/x-python",
   "name": "python",
   "nbconvert_exporter": "python",
   "pygments_lexer": "ipython3",
   "version": "3.7.1"
  }
 },
 "nbformat": 4,
 "nbformat_minor": 2
}
