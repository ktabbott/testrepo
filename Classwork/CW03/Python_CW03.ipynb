{
 "cells": [
  {
   "cell_type": "markdown",
   "metadata": {},
   "source": [
    "## 1.  The 'If' statement"
   ]
  },
  {
   "cell_type": "markdown",
   "metadata": {},
   "source": [
    "Sometimes we will want to execute a block of code if some condition is met.  This is done using an <span style = \"font-family:Courier New\">if</span> statement."
   ]
  },
  {
   "cell_type": "code",
   "execution_count": null,
   "metadata": {
    "scrolled": true
   },
   "outputs": [],
   "source": []
  },
  {
   "cell_type": "markdown",
   "metadata": {},
   "source": [
    "We can also provide alternate code to be executed if the condition is not satisfied.  This is done using the <span style = \"font-family:Courier New\">else</span> command.  <span style = \"font-family:Courier New\">else</span> is optional, but when used, it should always be paired with an <span style = \"font-family:Courier New\">if</span>"
   ]
  },
  {
   "cell_type": "code",
   "execution_count": null,
   "metadata": {},
   "outputs": [],
   "source": []
  },
  {
   "cell_type": "markdown",
   "metadata": {},
   "source": [
    "You can test a sequence of conditions and execute specific code for each case by using the <span style = \"font-family:Courier New\">elif</span> command.  (short for <span style = \"font-family:Courier New\">else</span> <span style = \"font-family:Courier New\">if</span>)"
   ]
  },
  {
   "cell_type": "code",
   "execution_count": null,
   "metadata": {},
   "outputs": [],
   "source": []
  },
  {
   "cell_type": "markdown",
   "metadata": {},
   "source": [
    "## 2. Checking for Equivalence"
   ]
  },
  {
   "cell_type": "markdown",
   "metadata": {},
   "source": [
    "Suppose we want to see if two propostions are equivalent. We know that \n",
    "1. if as we are building the truth table, we encounter a row in which the truth values of the propositions are different, the propositions are not equivalent, and\n",
    "2. if we build the truth table and the truth values of the propositions are the same in every row, the propositions are equivalent.\n",
    "\n",
    "Let's try to determine if the following two propositions are equivalent.  \n",
    "- $s:\\ \\sim p \\vee q$\n",
    "- $t:\\ p \\vee q$\n",
    "\n",
    "For now let's just build the truth table."
   ]
  },
  {
   "cell_type": "code",
   "execution_count": null,
   "metadata": {},
   "outputs": [],
   "source": []
  },
  {
   "cell_type": "markdown",
   "metadata": {},
   "source": [
    "So we are able to easily look at the truth table and determine if the propositions are equivalent, but how can we make python identify the difference?\n",
    "\n",
    "We will use a variable and `if` statements to keep track of whether or not we have encountered a row in which $s$ and $t$ have different truth values.\n"
   ]
  },
  {
   "cell_type": "code",
   "execution_count": null,
   "metadata": {},
   "outputs": [],
   "source": []
  },
  {
   "cell_type": "markdown",
   "metadata": {},
   "source": [
    "## 3.  Your turn!"
   ]
  },
  {
   "cell_type": "markdown",
   "metadata": {},
   "source": [
    "Use for loops and if statements to determine if the two propositions are equivalent.  Your code should print the final determination.\n",
    "\n",
    "-  $s:\\ \\sim (\\sim p \\vee q)$\n",
    "-  $t:\\ \\sim p \\wedge q$\n",
    "\n"
   ]
  },
  {
   "cell_type": "code",
   "execution_count": null,
   "metadata": {
    "collapsed": true
   },
   "outputs": [],
   "source": []
  }
 ],
 "metadata": {
  "@webio": {
   "lastCommId": "393cb57a9fed47d9887bca8c83b18efc",
   "lastKernelId": "e117818e-8554-4a92-9e51-0aca4b9383b7"
  },
  "kernelspec": {
   "display_name": "Python 3",
   "language": "python",
   "name": "python3"
  },
  "language_info": {
   "codemirror_mode": {
    "name": "ipython",
    "version": 3
   },
   "file_extension": ".py",
   "mimetype": "text/x-python",
   "name": "python",
   "nbconvert_exporter": "python",
   "pygments_lexer": "ipython3",
   "version": "3.7.3"
  }
 },
 "nbformat": 4,
 "nbformat_minor": 2
}
