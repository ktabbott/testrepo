{
 "cells": [
  {
   "cell_type": "markdown",
   "metadata": {},
   "source": [
    "## Python Classwork 2"
   ]
  },
  {
   "cell_type": "markdown",
   "metadata": {},
   "source": [
    "### 1. Sequences"
   ]
  },
  {
   "cell_type": "markdown",
   "metadata": {},
   "source": [
    "In python a sequence is an ordered collection of objects.  For now we will focus on two types of sequences: tuples and lists.  Full documentation can be found [here](https://docs.python.org/3/library/stdtypes.html#sequence-types-list-tuple-range)"
   ]
  },
  {
   "cell_type": "markdown",
   "metadata": {},
   "source": [
    "#### 1.1 Tuples"
   ]
  },
  {
   "cell_type": "markdown",
   "metadata": {},
   "source": [
    "A tuple is a sequence of values.  We declare them as follows:"
   ]
  },
  {
   "cell_type": "code",
   "execution_count": 2,
   "metadata": {},
   "outputs": [
    {
     "name": "stdout",
     "output_type": "stream",
     "text": [
      "(1, 2, 3)\n",
      "<class 'tuple'>\n"
     ]
    }
   ],
   "source": [
    "t = (1,2,3)\n",
    "print(t)\n",
    "print(type(t))"
   ]
  },
  {
   "cell_type": "markdown",
   "metadata": {},
   "source": [
    "Tuples can contain multiple data types."
   ]
  },
  {
   "cell_type": "code",
   "execution_count": 3,
   "metadata": {},
   "outputs": [
    {
     "name": "stdout",
     "output_type": "stream",
     "text": [
      "(1, '2', 3.0, True)\n"
     ]
    }
   ],
   "source": [
    "s = (1,\"2\",3.0,True)\n",
    "print(s)"
   ]
  },
  {
   "cell_type": "code",
   "execution_count": 4,
   "metadata": {},
   "outputs": [
    {
     "name": "stdout",
     "output_type": "stream",
     "text": [
      "('Houston', 91.0, 77.0)\n"
     ]
    }
   ],
   "source": [
    "temp = (\"Houston\",91.0,77.0)\n",
    "print(temp)"
   ]
  },
  {
   "cell_type": "markdown",
   "metadata": {},
   "source": [
    "The previous tuple has 3 entries.  They are indexed by integers beginning with 0 allowing us to access individual entries."
   ]
  },
  {
   "cell_type": "code",
   "execution_count": 5,
   "metadata": {
    "scrolled": true
   },
   "outputs": [
    {
     "data": {
      "text/plain": [
       "77.0"
      ]
     },
     "execution_count": 5,
     "metadata": {},
     "output_type": "execute_result"
    }
   ],
   "source": [
    "temp[2]"
   ]
  },
  {
   "cell_type": "markdown",
   "metadata": {},
   "source": [
    "Once a tuple is created, it cannot be modified.  It is <b>immutable</b>."
   ]
  },
  {
   "cell_type": "code",
   "execution_count": 6,
   "metadata": {},
   "outputs": [
    {
     "ename": "TypeError",
     "evalue": "'tuple' object does not support item assignment",
     "output_type": "error",
     "traceback": [
      "\u001b[1;31m---------------------------------------------------------------------------\u001b[0m",
      "\u001b[1;31mTypeError\u001b[0m                                 Traceback (most recent call last)",
      "\u001b[1;32m<ipython-input-6-677660fa9368>\u001b[0m in \u001b[0;36m<module>\u001b[1;34m()\u001b[0m\n\u001b[1;32m----> 1\u001b[1;33m \u001b[0mtemp\u001b[0m\u001b[1;33m[\u001b[0m\u001b[1;36m2\u001b[0m\u001b[1;33m]\u001b[0m \u001b[1;33m=\u001b[0m \u001b[1;36m78.5\u001b[0m\u001b[1;33m\u001b[0m\u001b[0m\n\u001b[0m",
      "\u001b[1;31mTypeError\u001b[0m: 'tuple' object does not support item assignment"
     ]
    }
   ],
   "source": [
    "temp[2] = 78.5"
   ]
  },
  {
   "cell_type": "code",
   "execution_count": 7,
   "metadata": {},
   "outputs": [
    {
     "data": {
      "text/plain": [
       "78.5"
      ]
     },
     "execution_count": 7,
     "metadata": {},
     "output_type": "execute_result"
    }
   ],
   "source": [
    "temp = (\"Houston\",91.0,78.5)\n",
    "temp[2]"
   ]
  },
  {
   "cell_type": "markdown",
   "metadata": {},
   "source": [
    "#### 1.2 Lists"
   ]
  },
  {
   "cell_type": "markdown",
   "metadata": {},
   "source": [
    "A list is also a sequence of values.  We declare them as follows:"
   ]
  },
  {
   "cell_type": "code",
   "execution_count": 8,
   "metadata": {},
   "outputs": [
    {
     "name": "stdout",
     "output_type": "stream",
     "text": [
      "<class 'list'>\n"
     ]
    }
   ],
   "source": [
    "l = [1,2,3]\n",
    "print(type(l))"
   ]
  },
  {
   "cell_type": "markdown",
   "metadata": {},
   "source": [
    "As with tuples, lists can contain multiple data types."
   ]
  },
  {
   "cell_type": "code",
   "execution_count": 9,
   "metadata": {},
   "outputs": [
    {
     "data": {
      "text/plain": [
       "['Houston', 91.0, 77.0]"
      ]
     },
     "execution_count": 9,
     "metadata": {},
     "output_type": "execute_result"
    }
   ],
   "source": [
    "temp_list = [\"Houston\",91.0,77.0]\n",
    "temp_list"
   ]
  },
  {
   "cell_type": "markdown",
   "metadata": {},
   "source": [
    "And like tuples, they are indexed by integers beginning with 0 allowing us to access individual entries."
   ]
  },
  {
   "cell_type": "code",
   "execution_count": 10,
   "metadata": {},
   "outputs": [
    {
     "data": {
      "text/plain": [
       "77.0"
      ]
     },
     "execution_count": 10,
     "metadata": {},
     "output_type": "execute_result"
    }
   ],
   "source": [
    "temp_list[2]"
   ]
  },
  {
   "cell_type": "markdown",
   "metadata": {},
   "source": [
    "Unlike tuples though, lists can be changed.  "
   ]
  },
  {
   "cell_type": "code",
   "execution_count": 12,
   "metadata": {},
   "outputs": [
    {
     "name": "stdout",
     "output_type": "stream",
     "text": [
      "['Houston', 91.0, 78.5]\n",
      "['Houston', 91.0, 78.5]\n",
      "['Houston', 91.0, 78.5, 77072]\n"
     ]
    }
   ],
   "source": [
    "print(temp_list)\n",
    "temp_list[2] = 78.5\n",
    "print(temp_list)\n",
    "temp_list.append(77072)\n",
    "print(temp_list)"
   ]
  },
  {
   "cell_type": "code",
   "execution_count": 13,
   "metadata": {},
   "outputs": [
    {
     "name": "stdout",
     "output_type": "stream",
     "text": [
      "['Houston', 91.0, 78.5, 77072, [1, 2]]\n"
     ]
    }
   ],
   "source": [
    "temp_list.append([1,2])\n",
    "print(temp_list)"
   ]
  },
  {
   "cell_type": "markdown",
   "metadata": {},
   "source": [
    "### 2. The 'for' loop"
   ]
  },
  {
   "cell_type": "markdown",
   "metadata": {},
   "source": [
    "Sometimes, you will need to execute a block of code for every object in a sequence.  This can be done using a 'for' loop."
   ]
  },
  {
   "cell_type": "code",
   "execution_count": 18,
   "metadata": {},
   "outputs": [
    {
     "name": "stdout",
     "output_type": "stream",
     "text": [
      "1 2\n",
      "2 4\n",
      "3 6\n",
      "4 8\n",
      "5 10\n",
      "6 12\n"
     ]
    }
   ],
   "source": [
    "Q = [1,2,3,4,5,6]\n",
    "for q in Q:\n",
    "    q_new = 2*q\n",
    "    print(q,q_new)\n"
   ]
  },
  {
   "cell_type": "markdown",
   "metadata": {},
   "source": [
    "Notice that Python identifies blocks of code by indentation - not using delimiters such as {} like many other languages.  In particular, Python recognizes the end of the code for a loop by a reduction in indentation."
   ]
  },
  {
   "cell_type": "code",
   "execution_count": 19,
   "metadata": {},
   "outputs": [
    {
     "name": "stdout",
     "output_type": "stream",
     "text": [
      "1 2\n",
      "2 4\n",
      "3 6\n",
      "4 8\n",
      "5 10\n",
      "6 12\n",
      "Done\n"
     ]
    }
   ],
   "source": [
    "Q = [1,2,3,4,5,6]\n",
    "for q in Q:\n",
    "    q_new = 2*q\n",
    "    print(q,q_new)\n",
    "print('Done')"
   ]
  },
  {
   "cell_type": "markdown",
   "metadata": {},
   "source": [
    "What does the following code produce?"
   ]
  },
  {
   "cell_type": "code",
   "execution_count": 22,
   "metadata": {},
   "outputs": [
    {
     "name": "stdout",
     "output_type": "stream",
     "text": [
      "True \t False\n",
      "False \t True\n"
     ]
    }
   ],
   "source": [
    "for p in [True, False]:\n",
    "    print(p,\"\\t\",not p)"
   ]
  },
  {
   "cell_type": "markdown",
   "metadata": {},
   "source": [
    "#### 2.1 Nested Loops"
   ]
  },
  {
   "cell_type": "markdown",
   "metadata": {},
   "source": [
    "The code inside a 'for' loop can itself contain a for loop.  The code below uses a nested 'for' loop to print all possible pairs of truth values."
   ]
  },
  {
   "cell_type": "code",
   "execution_count": 23,
   "metadata": {},
   "outputs": [
    {
     "name": "stdout",
     "output_type": "stream",
     "text": [
      "True \t True \t True\n",
      "True \t False \t True\n",
      "False \t True \t True\n",
      "False \t False \t False\n"
     ]
    }
   ],
   "source": [
    "# p ^ q\n",
    "for p in [True, False]:\n",
    "    for q in [True, False]:\n",
    "        s = p or q\n",
    "        print(p, \"\\t\",q,\"\\t\",s)"
   ]
  },
  {
   "cell_type": "markdown",
   "metadata": {},
   "source": [
    "Loops can be nested within nested loops. The code below prints all possible ordered triples of truth values."
   ]
  },
  {
   "cell_type": "code",
   "execution_count": 24,
   "metadata": {},
   "outputs": [
    {
     "name": "stdout",
     "output_type": "stream",
     "text": [
      "True \t True \t True\n",
      "True \t True \t False\n",
      "True \t False \t True\n",
      "True \t False \t False\n",
      "False \t True \t True\n",
      "False \t True \t False\n",
      "False \t False \t True\n",
      "False \t False \t False\n"
     ]
    }
   ],
   "source": [
    "for p in [True,False]:\n",
    "    for q in [True,False]:\n",
    "        for r in [True,False]:\n",
    "            print(p,\"\\t\",q,\"\\t\",r)"
   ]
  },
  {
   "cell_type": "markdown",
   "metadata": {},
   "source": [
    "Python does have a limit on nesting depth: 20.  Practically, though, you should never hit that."
   ]
  },
  {
   "cell_type": "markdown",
   "metadata": {},
   "source": [
    "### 3. Your turn!"
   ]
  },
  {
   "cell_type": "markdown",
   "metadata": {},
   "source": [
    "Consider the following proposition\n",
    "<center><i>I am an environmentalist and it is not the case that I recycle my aluminum cans or newspapers</i></center>\n",
    "\n",
    "and define propositional variables as follows.\n",
    "* $p$:  I am an environmentalist.\n",
    "* $q$:  I recycle my aluminum cans.\n",
    "* $r$:  I recycle my newspapers.\n",
    "\n",
    "Write a Python program that prints the truth table."
   ]
  },
  {
   "cell_type": "code",
   "execution_count": 3,
   "metadata": {},
   "outputs": [
    {
     "name": "stdout",
     "output_type": "stream",
     "text": [
      "True \t True \t True \t False\n",
      "True \t True \t False \t False\n",
      "True \t False \t True \t False\n",
      "True \t False \t False \t True\n",
      "False \t True \t True \t False\n",
      "False \t True \t False \t False\n",
      "False \t False \t True \t False\n",
      "False \t False \t False \t False\n"
     ]
    }
   ],
   "source": [
    "# p ^ ~(q v r)   \n"
   ]
  }
 ],
 "metadata": {
  "@webio": {
   "lastCommId": "2b74b9a1be43419d8f8f474e0e1f9a56",
   "lastKernelId": "685db591-ac3c-45a8-bb90-3a73f61227f7"
  },
  "kernelspec": {
   "display_name": "Python 3",
   "language": "python",
   "name": "python3"
  },
  "language_info": {
   "codemirror_mode": {
    "name": "ipython",
    "version": 3
   },
   "file_extension": ".py",
   "mimetype": "text/x-python",
   "name": "python",
   "nbconvert_exporter": "python",
   "pygments_lexer": "ipython3",
   "version": "3.6.5"
  }
 },
 "nbformat": 4,
 "nbformat_minor": 2
}
