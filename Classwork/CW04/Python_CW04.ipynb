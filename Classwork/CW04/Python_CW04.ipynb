{
 "cells": [
  {
   "cell_type": "markdown",
   "metadata": {},
   "source": [
    "## 1. The 'while' Loop"
   ]
  },
  {
   "cell_type": "markdown",
   "metadata": {},
   "source": [
    "### 1.1 Recall the 'for' loop"
   ]
  },
  {
   "cell_type": "markdown",
   "metadata": {},
   "source": [
    "Recall that the <b>for</b> loop iterates over the entries of a sequence."
   ]
  },
  {
   "cell_type": "code",
   "execution_count": null,
   "metadata": {},
   "outputs": [],
   "source": []
  },
  {
   "cell_type": "markdown",
   "metadata": {},
   "source": [
    "The <b>for</b> loop with step through the entire sequence unless a <b>break</b> statement is encountered."
   ]
  },
  {
   "cell_type": "code",
   "execution_count": null,
   "metadata": {},
   "outputs": [],
   "source": []
  },
  {
   "cell_type": "markdown",
   "metadata": {},
   "source": [
    "Last time, we used a `for` loop and `if` statements to determine if two compound propositions are equivalent."
   ]
  },
  {
   "cell_type": "code",
   "execution_count": null,
   "metadata": {},
   "outputs": [],
   "source": [
    "equiv = True\n",
    "\n",
    "for p in (True,False):\n",
    "    for q in (True,False):\n",
    "        s = not (not p or q)\n",
    "        t = not p and q\n",
    "        if(s!=t):\n",
    "            equiv = False\n",
    "\n",
    "\n",
    "print()\n",
    "    \n",
    "if(equiv == True):\n",
    "    print('s and t are equivalent')\n",
    "else:\n",
    "    print('s and t are not equivalent')"
   ]
  },
  {
   "cell_type": "markdown",
   "metadata": {},
   "source": [
    "### 1.2 The 'while' loop"
   ]
  },
  {
   "cell_type": "markdown",
   "metadata": {},
   "source": [
    "We can do the same job with the need of a break statement using a <b>while</b> loop.  This type of loop executes a block of code repeatedly as long as (while) a condition is met. The trade-off is that you have to initialize variables and define expicitly any iteration you need to do."
   ]
  },
  {
   "cell_type": "code",
   "execution_count": null,
   "metadata": {
    "scrolled": true
   },
   "outputs": [],
   "source": []
  },
  {
   "cell_type": "markdown",
   "metadata": {},
   "source": [
    "Let's check if \n",
    "-  $s:\\ \\sim (\\sim p \\vee q)$\n",
    "-  $t:\\ \\sim p \\wedge q$\n",
    "\n",
    "are equivalent using a while loop now. The code below will do this and give a correct answer."
   ]
  },
  {
   "cell_type": "code",
   "execution_count": null,
   "metadata": {},
   "outputs": [],
   "source": []
  },
  {
   "cell_type": "markdown",
   "metadata": {},
   "source": [
    "## 2.  Your turn!"
   ]
  },
  {
   "cell_type": "markdown",
   "metadata": {},
   "source": [
    "Use a while loop to determine if the proposition $\\sim [q\\ \\wedge \\sim p]\\ \\wedge \\sim [p\\ \\wedge \\sim q]$ is satisfiable."
   ]
  },
  {
   "cell_type": "code",
   "execution_count": null,
   "metadata": {},
   "outputs": [],
   "source": [
    "T"
   ]
  },
  {
   "cell_type": "code",
   "execution_count": null,
   "metadata": {},
   "outputs": [],
   "source": []
  }
 ],
 "metadata": {
  "@webio": {
   "lastCommId": "314e522713b644338d43f3a24a969224",
   "lastKernelId": "3eaeab0f-6cff-4533-96aa-36cf5039dfff"
  },
  "kernelspec": {
   "display_name": "Python 3",
   "language": "python",
   "name": "python3"
  },
  "language_info": {
   "codemirror_mode": {
    "name": "ipython",
    "version": 3
   },
   "file_extension": ".py",
   "mimetype": "text/x-python",
   "name": "python",
   "nbconvert_exporter": "python",
   "pygments_lexer": "ipython3",
   "version": "3.7.3"
  }
 },
 "nbformat": 4,
 "nbformat_minor": 2
}
