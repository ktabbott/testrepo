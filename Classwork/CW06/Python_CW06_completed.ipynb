{
 "cells": [
  {
   "cell_type": "markdown",
   "metadata": {},
   "source": [
    "# Set Operations"
   ]
  },
  {
   "cell_type": "markdown",
   "metadata": {},
   "source": [
    "All of the set operations that we have discussed in class are implemented in python 3 and can be viewed concisely [here](https://docs.python.org/2/library/sets.html#set-objects).\n",
    "\n",
    "For example, suppose $A$ is the set of all positive multiples of 6 less than 100, and suppose $B$ is the set of all multiples of 8 less than 100.  \n",
    "\n",
    "- What is the set of numbers between 0 and 100 are multiples of both?\n"
   ]
  },
  {
   "cell_type": "code",
   "execution_count": 8,
   "metadata": {},
   "outputs": [
    {
     "name": "stdout",
     "output_type": "stream",
     "text": [
      "{96, 66, 36, 6, 72, 42, 12, 78, 48, 18, 84, 54, 24, 90, 60, 30}\n",
      "{32, 64, 96, 8, 40, 72, 16, 48, 80, 24, 56, 88}\n"
     ]
    },
    {
     "data": {
      "text/plain": [
       "{24, 48, 72, 96}"
      ]
     },
     "execution_count": 8,
     "metadata": {},
     "output_type": "execute_result"
    }
   ],
   "source": [
    "A = set(range(6,100,6))\n",
    "B = set(range(8,100,8))\n",
    "print(A)\n",
    "print(B)\n",
    "A.intersection(B)"
   ]
  },
  {
   "cell_type": "markdown",
   "metadata": {},
   "source": [
    "- What is the set of numbers that are multiples of 6 or 8?"
   ]
  },
  {
   "cell_type": "code",
   "execution_count": 9,
   "metadata": {
    "scrolled": true
   },
   "outputs": [
    {
     "name": "stdout",
     "output_type": "stream",
     "text": [
      "{64, 66, 6, 72, 8, 12, 78, 16, 80, 18, 84, 24, 88, 90, 30, 96, 32, 36, 40, 42, 48, 54, 56, 60}\n"
     ]
    }
   ],
   "source": [
    "print(A.union(B))"
   ]
  },
  {
   "cell_type": "markdown",
   "metadata": {},
   "source": [
    "- What is the set of multiples of 8 that are not multiples of 6?"
   ]
  },
  {
   "cell_type": "code",
   "execution_count": 10,
   "metadata": {},
   "outputs": [
    {
     "data": {
      "text/plain": [
       "{8, 16, 32, 40, 56, 64, 80, 88}"
      ]
     },
     "execution_count": 10,
     "metadata": {},
     "output_type": "execute_result"
    }
   ],
   "source": [
    "B.difference(A)"
   ]
  },
  {
   "cell_type": "code",
   "execution_count": 12,
   "metadata": {},
   "outputs": [
    {
     "data": {
      "text/plain": [
       "{8, 16, 32, 40, 56, 64, 80, 88}"
      ]
     },
     "execution_count": 12,
     "metadata": {},
     "output_type": "execute_result"
    }
   ],
   "source": [
    "B-A"
   ]
  },
  {
   "cell_type": "markdown",
   "metadata": {},
   "source": [
    "In fact, the arguments to these method do not have to be sets.  "
   ]
  },
  {
   "cell_type": "code",
   "execution_count": 15,
   "metadata": {},
   "outputs": [
    {
     "data": {
      "text/plain": [
       "{24, 48, 72, 96}"
      ]
     },
     "execution_count": 15,
     "metadata": {},
     "output_type": "execute_result"
    }
   ],
   "source": [
    "A.intersection(range(8,100,8))"
   ]
  },
  {
   "cell_type": "code",
   "execution_count": 16,
   "metadata": {
    "scrolled": true
   },
   "outputs": [
    {
     "data": {
      "text/plain": [
       "{8, 16, 32, 40, 56, 64, 80, 88}"
      ]
     },
     "execution_count": 16,
     "metadata": {},
     "output_type": "execute_result"
    }
   ],
   "source": [
    "B.difference([24,48,72,96])"
   ]
  },
  {
   "cell_type": "markdown",
   "metadata": {},
   "source": [
    "## Your Turn"
   ]
  },
  {
   "cell_type": "markdown",
   "metadata": {},
   "source": [
    "The two files `top10gross.csv` and `top10adj.csv` contain the top 10 movies by gross revenue and by gross revenue after adjusting for inflation (respectively, as of 2015).  Use the function `readCSV()` below to read each `csv` file into a list of tuples and then use set operations to \n",
    "1. determine which movies appear on both and\n",
    "2. generate a set of distinct movies which appear in the top 10 by gross but not by adjusted gross."
   ]
  },
  {
   "cell_type": "code",
   "execution_count": 3,
   "metadata": {},
   "outputs": [],
   "source": [
    "import csv\n",
    "\n",
    "def readCSV(file):\n",
    "    fh = open(file,'r')                                  # open file for reading\n",
    "    data = csv.reader(fh,delimiter=',',quotechar='\"')    # create a csv reader.  this is needed because some titles\n",
    "                                                         # contain commas\n",
    "\n",
    "    contents = []                                        # create an empty list in which to store the data \n",
    "    count = 0\n",
    "    for line in data:                                    # process each line of the file\n",
    "        count += 1\n",
    "        if(count==1):                                    # skip the first line which contains column headers\n",
    "            continue\n",
    "        lineData = tuple(line)                           # store the data as a tuple (for consistency with the previous example)\n",
    "        contents.append(lineData)                        # add the tuple of data to the topMovies list.\n",
    "\n",
    "    return contents\n"
   ]
  },
  {
   "cell_type": "code",
   "execution_count": 7,
   "metadata": {},
   "outputs": [
    {
     "name": "stdout",
     "output_type": "stream",
     "text": [
      "10\n",
      "10\n"
     ]
    },
    {
     "data": {
      "text/plain": [
       "{'Star Wars', 'Titanic'}"
      ]
     },
     "execution_count": 7,
     "metadata": {},
     "output_type": "execute_result"
    }
   ],
   "source": [
    "top10gross = readCSV('top10gross.csv')\n",
    "top10adj   = readCSV('top10adj.csv')\n",
    "print(len(top10gross))\n",
    "print(len(top10adj))\n",
    "\n",
    "top10moviesG = set()\n",
    "top10moviesA = set()\n",
    "\n",
    "for i in range(10):\n",
    "    top10moviesG.add(top10gross[i][0])\n",
    "    top10moviesA.add(top10adj[i][0])\n",
    "\n",
    "top10moviesG.intersection(top10moviesA)\n",
    "    \n",
    "    "
   ]
  },
  {
   "cell_type": "code",
   "execution_count": 8,
   "metadata": {},
   "outputs": [
    {
     "data": {
      "text/plain": [
       "{'Avatar',\n",
       " 'Avengers: Age of Ultron',\n",
       " 'Jurassic World',\n",
       " \"Marvel's The Avengers\",\n",
       " 'Star Wars: Episode I - The Phantom Menace',\n",
       " 'Star Wars: The Force Awakens',\n",
       " 'The Dark Knight',\n",
       " 'The Dark Knight Rises'}"
      ]
     },
     "execution_count": 8,
     "metadata": {},
     "output_type": "execute_result"
    }
   ],
   "source": [
    "top10moviesG - top10moviesA"
   ]
  },
  {
   "cell_type": "code",
   "execution_count": 9,
   "metadata": {},
   "outputs": [
    {
     "data": {
      "text/plain": [
       "{'Doctor Zhivago',\n",
       " 'E.T.: The Extra-Terrestrial',\n",
       " 'Gone with the Wind',\n",
       " 'Jaws',\n",
       " 'Snow White and the Seven Dwarfs',\n",
       " 'Star Wars',\n",
       " 'The Exorcist',\n",
       " 'The Sound of Music',\n",
       " 'The Ten Commandments',\n",
       " 'Titanic'}"
      ]
     },
     "execution_count": 9,
     "metadata": {},
     "output_type": "execute_result"
    }
   ],
   "source": [
    "top10moviesA"
   ]
  }
 ],
 "metadata": {
  "kernelspec": {
   "display_name": "Python 3",
   "language": "python",
   "name": "python3"
  },
  "language_info": {
   "codemirror_mode": {
    "name": "ipython",
    "version": 3
   },
   "file_extension": ".py",
   "mimetype": "text/x-python",
   "name": "python",
   "nbconvert_exporter": "python",
   "pygments_lexer": "ipython3",
   "version": "3.7.3"
  }
 },
 "nbformat": 4,
 "nbformat_minor": 2
}
