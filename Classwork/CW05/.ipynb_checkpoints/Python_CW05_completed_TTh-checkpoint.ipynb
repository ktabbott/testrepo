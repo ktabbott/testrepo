{
 "cells": [
  {
   "cell_type": "markdown",
   "metadata": {},
   "source": [
    "# Sets "
   ]
  },
  {
   "cell_type": "markdown",
   "metadata": {},
   "source": [
    "So far in this class we have learned about sequences (specifically tuples and lists) as ways to store multiple values in a single object.  These objects place the values in a certain order, and since each entry can be any value, repetitions are allowed. But what if we are only concerned with the distinct objects themselves and not about how many times or in what order they appear?   \n",
    "\n",
    "## 1. The Basics\n",
    "\n",
    "Python also has a `set` type that has the properties of a mathematical set: it is an unordered collection of distinct objects. Sets can be defined using the roster notation we learned in Section 2.1"
   ]
  },
  {
   "cell_type": "code",
   "execution_count": 1,
   "metadata": {},
   "outputs": [
    {
     "data": {
      "text/plain": [
       "{1, 2, 3}"
      ]
     },
     "execution_count": 1,
     "metadata": {},
     "output_type": "execute_result"
    }
   ],
   "source": [
    "S = {1,2,3}\n",
    "S"
   ]
  },
  {
   "cell_type": "code",
   "execution_count": 2,
   "metadata": {},
   "outputs": [
    {
     "data": {
      "text/plain": [
       "set"
      ]
     },
     "execution_count": 2,
     "metadata": {},
     "output_type": "execute_result"
    }
   ],
   "source": [
    "type(S)"
   ]
  },
  {
   "cell_type": "markdown",
   "metadata": {},
   "source": [
    "Notice that repeated values only appear once in the set."
   ]
  },
  {
   "cell_type": "code",
   "execution_count": 4,
   "metadata": {},
   "outputs": [
    {
     "name": "stdout",
     "output_type": "stream",
     "text": [
      "{1, 2, 3}\n"
     ]
    },
    {
     "data": {
      "text/plain": [
       "{1, 2, 3}"
      ]
     },
     "execution_count": 4,
     "metadata": {},
     "output_type": "execute_result"
    }
   ],
   "source": [
    "S = {1,1,1,2,2,3,1,3,3,2}\n",
    "print(S)\n",
    "S"
   ]
  },
  {
   "cell_type": "markdown",
   "metadata": {},
   "source": [
    "Values can be added to a set using the `add()` method. Of course, if the value is already in the set, it will not be added again"
   ]
  },
  {
   "cell_type": "code",
   "execution_count": 6,
   "metadata": {
    "scrolled": true
   },
   "outputs": [
    {
     "name": "stdout",
     "output_type": "stream",
     "text": [
      "{1, 2, 3, 4}\n"
     ]
    }
   ],
   "source": [
    "S.add(4)\n",
    "print(S)"
   ]
  },
  {
   "cell_type": "code",
   "execution_count": 7,
   "metadata": {},
   "outputs": [
    {
     "name": "stdout",
     "output_type": "stream",
     "text": [
      "{1, 2, 3, 4}\n"
     ]
    }
   ],
   "source": [
    "S.add(3)\n",
    "print(S)"
   ]
  },
  {
   "cell_type": "markdown",
   "metadata": {},
   "source": [
    "Suppose that we already have a list and want to turn it into as set because we only care about the distinct elements. We can do that as follows."
   ]
  },
  {
   "cell_type": "code",
   "execution_count": 8,
   "metadata": {},
   "outputs": [
    {
     "data": {
      "text/plain": [
       "{1, 2, 3, 4}"
      ]
     },
     "execution_count": 8,
     "metadata": {},
     "output_type": "execute_result"
    }
   ],
   "source": [
    "A = [1,2,3,3,3,4,1,2,4]\n",
    "S2 = set(A)\n",
    "S2"
   ]
  },
  {
   "cell_type": "markdown",
   "metadata": {},
   "source": [
    "Be careful, though.  An empty set cannot be created using roster notation. `{}` will create an empty dictionary, not an empty set. We will discuss dictionaries later in the course."
   ]
  },
  {
   "cell_type": "code",
   "execution_count": 9,
   "metadata": {},
   "outputs": [
    {
     "data": {
      "text/plain": [
       "dict"
      ]
     },
     "execution_count": 9,
     "metadata": {},
     "output_type": "execute_result"
    }
   ],
   "source": [
    "D = {}\n",
    "type(D)"
   ]
  },
  {
   "cell_type": "markdown",
   "metadata": {},
   "source": [
    "To create an empty set, you should use `set()`."
   ]
  },
  {
   "cell_type": "code",
   "execution_count": 11,
   "metadata": {},
   "outputs": [
    {
     "data": {
      "text/plain": [
       "0"
      ]
     },
     "execution_count": 11,
     "metadata": {},
     "output_type": "execute_result"
    }
   ],
   "source": [
    "E = set()\n",
    "len(E)"
   ]
  },
  {
   "cell_type": "code",
   "execution_count": 12,
   "metadata": {},
   "outputs": [
    {
     "data": {
      "text/plain": [
       "4"
      ]
     },
     "execution_count": 12,
     "metadata": {},
     "output_type": "execute_result"
    }
   ],
   "source": [
    "len(S)"
   ]
  },
  {
   "cell_type": "markdown",
   "metadata": {},
   "source": [
    "The `add` method will only add single values, however.  We will learn how to add multiple values next time."
   ]
  },
  {
   "cell_type": "code",
   "execution_count": 13,
   "metadata": {
    "scrolled": true
   },
   "outputs": [
    {
     "ename": "TypeError",
     "evalue": "unhashable type: 'list'",
     "output_type": "error",
     "traceback": [
      "\u001b[1;31m---------------------------------------------------------------------------\u001b[0m",
      "\u001b[1;31mTypeError\u001b[0m                                 Traceback (most recent call last)",
      "\u001b[1;32m<ipython-input-13-5650c9f7573f>\u001b[0m in \u001b[0;36m<module>\u001b[1;34m()\u001b[0m\n\u001b[1;32m----> 1\u001b[1;33m \u001b[0mE\u001b[0m\u001b[1;33m.\u001b[0m\u001b[0madd\u001b[0m\u001b[1;33m(\u001b[0m\u001b[0mA\u001b[0m\u001b[1;33m)\u001b[0m\u001b[1;33m\u001b[0m\u001b[0m\n\u001b[0m",
      "\u001b[1;31mTypeError\u001b[0m: unhashable type: 'list'"
     ]
    }
   ],
   "source": [
    "E.add(A)"
   ]
  },
  {
   "cell_type": "code",
   "execution_count": 14,
   "metadata": {
    "scrolled": false
   },
   "outputs": [
    {
     "data": {
      "text/plain": [
       "{(1, 2, 3, 3, 3, 4, 1, 2, 4)}"
      ]
     },
     "execution_count": 14,
     "metadata": {},
     "output_type": "execute_result"
    }
   ],
   "source": [
    "E.add(tuple(A))\n",
    "E"
   ]
  },
  {
   "cell_type": "code",
   "execution_count": 15,
   "metadata": {},
   "outputs": [
    {
     "data": {
      "text/plain": [
       "1"
      ]
     },
     "execution_count": 15,
     "metadata": {},
     "output_type": "execute_result"
    }
   ],
   "source": [
    "len(E)"
   ]
  },
  {
   "cell_type": "markdown",
   "metadata": {},
   "source": [
    "## 2. An application."
   ]
  },
  {
   "cell_type": "markdown",
   "metadata": {},
   "source": [
    "The file `more_ice_cream.csv` contains data about ice cream purchased in a particular area.  Each row contains the flavor, color, and price of the ice cream. The code below reads the data and stores it in a list called `iceCreamData`.\n",
    "\n",
    "From the `iceCreamData` list, determine \n",
    "\n",
    "1. What distinct flavors appear in the list,\n",
    "2. What distinct colors appear in the list , and\n",
    "3. What distinct flavor/color combinations appear in the list.\n",
    "\n",
    "Store each of these in a set and print your results."
   ]
  },
  {
   "cell_type": "code",
   "execution_count": 16,
   "metadata": {
    "collapsed": true
   },
   "outputs": [
    {
     "name": "stdout",
     "output_type": "stream",
     "text": [
      "Entries: Flavor,Color,Price\n"
     ]
    },
    {
     "data": {
      "text/plain": [
       "[('Chocolate', 'brown', '4.01'),\n",
       " ('Cookie Dough', 'white', '4.69'),\n",
       " ('Bubble Gum', 'pink', '4.5'),\n",
       " ('Vanilla', 'white', '3.14'),\n",
       " ('Vanilla', 'white', '3.53'),\n",
       " ('Chocolate', 'brown', '3.59'),\n",
       " ('Vanilla', 'white', '3.34'),\n",
       " ('Chocolate', 'brown', '3.59'),\n",
       " ('Bubble Gum', 'blue', '4.6'),\n",
       " ('Vanilla', 'white', '3.76'),\n",
       " ('Cookie Dough', 'white', '4.24'),\n",
       " ('Bubble Gum', 'pink', '4.5'),\n",
       " ('Bubble Gum', 'blue', '4.6'),\n",
       " ('Vanilla', 'white', '3.48'),\n",
       " ('Bubble Gum', 'blue', '4.8'),\n",
       " ('Vanilla', 'white', '3.43'),\n",
       " ('Vanilla', 'white', '3.23'),\n",
       " ('Bubble Gum', 'pink', '4.85'),\n",
       " ('Strawberry', 'pink', '3.79'),\n",
       " ('Chocolate', 'brown', '3.51'),\n",
       " ('Cookie Dough', 'white', '4.34'),\n",
       " ('Vanilla', 'white', '3.92'),\n",
       " ('Vanilla', 'white', '3.15'),\n",
       " ('Vanilla', 'white', '3.42'),\n",
       " ('Chocolate', 'brown', '3.29'),\n",
       " ('Vanilla', 'white', '3.48'),\n",
       " ('Chocolate', 'brown', '3.57'),\n",
       " ('Vanilla', 'white', '3.34'),\n",
       " ('Strawberry', 'pink', '4.29'),\n",
       " ('Vanilla', 'white', '3.68'),\n",
       " ('Vanilla', 'white', '3.72'),\n",
       " ('Strawberry', 'pink', '4.23'),\n",
       " ('Vanilla', 'white', '3.17'),\n",
       " ('Chocolate', 'brown', '3.85'),\n",
       " ('Cookie Dough', 'white', '4.22'),\n",
       " ('Chocolate', 'brown', '3.91'),\n",
       " ('Bubble Gum', 'pink', '4.63'),\n",
       " ('Vanilla', 'white', '3.32'),\n",
       " ('Vanilla', 'white', '3.15'),\n",
       " ('Vanilla', 'white', '3.63'),\n",
       " ('Chocolate', 'brown', '3.51'),\n",
       " ('Strawberry', 'pink', '4.02'),\n",
       " ('Chocolate', 'brown', '3.57'),\n",
       " ('Strawberry', 'pink', '4.34'),\n",
       " ('Vanilla', 'white', '3.46'),\n",
       " ('Vanilla', 'white', '2.96'),\n",
       " ('Strawberry', 'pink', '4.37'),\n",
       " ('Vanilla', 'white', '3.35'),\n",
       " ('Vanilla', 'white', '3.54'),\n",
       " ('Vanilla', 'white', '3.13'),\n",
       " ('Chocolate', 'brown', '3.96'),\n",
       " ('Strawberry', 'pink', '4.4'),\n",
       " ('Vanilla', 'white', '3.92'),\n",
       " ('Vanilla', 'white', '3.35'),\n",
       " ('Strawberry', 'pink', '3.77'),\n",
       " ('Strawberry', 'pink', '3.87'),\n",
       " ('Strawberry', 'pink', '4.13'),\n",
       " ('Vanilla', 'white', '3.27'),\n",
       " ('Vanilla', 'white', '3.73'),\n",
       " ('Chocolate', 'brown', '3.52'),\n",
       " ('Vanilla', 'white', '3.4'),\n",
       " ('Vanilla', 'white', '3.22'),\n",
       " ('Chocolate', 'brown', '3.75'),\n",
       " ('Strawberry', 'pink', '4.49'),\n",
       " ('Cookie Dough', 'white', '4.41'),\n",
       " ('Bubble Gum', 'blue', '4.74'),\n",
       " ('Vanilla', 'white', '3.9'),\n",
       " ('Bubble Gum', 'blue', '4.84'),\n",
       " ('Strawberry', 'pink', '3.91'),\n",
       " ('Cookie Dough', 'white', '4.83'),\n",
       " ('Bubble Gum', 'pink', '4.66'),\n",
       " ('Vanilla', 'white', '3.22'),\n",
       " ('Cookie Dough', 'white', '4.59'),\n",
       " ('Vanilla', 'white', '3.47'),\n",
       " ('Chocolate', 'brown', '4.21'),\n",
       " ('Vanilla', 'white', '3.79'),\n",
       " ('Chocolate', 'brown', '4.06'),\n",
       " ('Vanilla', 'white', '3.6'),\n",
       " ('Strawberry', 'pink', '4.47'),\n",
       " ('Vanilla', 'white', '3.06'),\n",
       " ('Chocolate', 'brown', '3.36'),\n",
       " ('Vanilla', 'white', '3.12'),\n",
       " ('Bubble Gum', 'blue', '4.63'),\n",
       " ('Bubble Gum', 'pink', '4.8'),\n",
       " ('Vanilla', 'white', '3.9'),\n",
       " ('Vanilla', 'white', '3.4'),\n",
       " ('Vanilla', 'white', '3.13'),\n",
       " ('Bubble Gum', 'pink', '4.65'),\n",
       " ('Chocolate', 'brown', '3.44'),\n",
       " ('Cookie Dough', 'white', '4.29'),\n",
       " ('Cookie Dough', 'white', '4.22'),\n",
       " ('Vanilla', 'white', '2.92'),\n",
       " ('Vanilla', 'white', '3.82'),\n",
       " ('Cookie Dough', 'white', '4.17'),\n",
       " ('Cookie Dough', 'white', '4.27'),\n",
       " ('Vanilla', 'white', '2.97'),\n",
       " ('Bubble Gum', 'blue', '4.63'),\n",
       " ('Chocolate', 'brown', '3.73'),\n",
       " ('Bubble Gum', 'blue', '4.57'),\n",
       " ('Cookie Dough', 'white', '4.24'),\n",
       " ('Vanilla', 'white', '3.46'),\n",
       " ('Chocolate', 'brown', '3.65'),\n",
       " ('Cookie Dough', 'white', '4.46'),\n",
       " ('Vanilla', 'white', '3.71'),\n",
       " ('Chocolate', 'brown', '4.25'),\n",
       " ('Vanilla', 'white', '3.05'),\n",
       " ('Chocolate', 'brown', '3.73'),\n",
       " ('Cookie Dough', 'white', '4.24'),\n",
       " ('Strawberry', 'pink', '3.86'),\n",
       " ('Vanilla', 'white', '3.76'),\n",
       " ('Strawberry', 'pink', '4.16'),\n",
       " ('Bubble Gum', 'pink', '4.77'),\n",
       " ('Strawberry', 'pink', '3.91'),\n",
       " ('Vanilla', 'white', '3.71'),\n",
       " ('Chocolate', 'brown', '3.55'),\n",
       " ('Vanilla', 'white', '3.6'),\n",
       " ('Strawberry', 'pink', '3.92'),\n",
       " ('Chocolate', 'brown', '3.61'),\n",
       " ('Chocolate', 'brown', '3.9'),\n",
       " ('Cookie Dough', 'white', '4.17'),\n",
       " ('Vanilla', 'white', '3.47'),\n",
       " ('Cookie Dough', 'white', '4.36'),\n",
       " ('Bubble Gum', 'blue', '4.62'),\n",
       " ('Chocolate', 'brown', '3.54'),\n",
       " ('Vanilla', 'white', '2.95'),\n",
       " ('Vanilla', 'white', '3.89'),\n",
       " ('Strawberry', 'pink', '4.16'),\n",
       " ('Bubble Gum', 'blue', '4.73'),\n",
       " ('Chocolate', 'brown', '3.47'),\n",
       " ('Chocolate', 'brown', '3.33'),\n",
       " ('Cookie Dough', 'white', '4.11'),\n",
       " ('Vanilla', 'white', '3.47'),\n",
       " ('Vanilla', 'white', '3.18'),\n",
       " ('Vanilla', 'white', '3.71'),\n",
       " ('Bubble Gum', 'blue', '4.67')]"
      ]
     },
     "execution_count": 16,
     "metadata": {},
     "output_type": "execute_result"
    }
   ],
   "source": [
    "# This part of the code reads the file and produes a list of tuples \n",
    "# containing the data.  Do not change it. Just run it.\n",
    "\n",
    "file = open('more_ice_cream.csv','r') # open the file\n",
    "data = file.read().split(\"\\n\")        # read the file as a string, split it into lines,\n",
    "                                      # and store the data in an list of strings\n",
    "    \n",
    "header = data.pop(0)                  # remove the header line and print it\n",
    "print(\"Entries:\",header)\n",
    "iceCreamData = []                     # initialize a list to store the data from the each line\n",
    "for line in data:                     \n",
    "    lineData = tuple(line.split(',')) # convert the line into a tuple\n",
    "    iceCreamData.append(lineData)     # add the tuple to the iceCreamData list.\n",
    "iceCreamData\n",
    "    \n"
   ]
  },
  {
   "cell_type": "code",
   "execution_count": 17,
   "metadata": {},
   "outputs": [
    {
     "data": {
      "text/plain": [
       "('Chocolate', 'brown', '4.01')"
      ]
     },
     "execution_count": 17,
     "metadata": {},
     "output_type": "execute_result"
    }
   ],
   "source": [
    "iceCreamData[0]"
   ]
  },
  {
   "cell_type": "code",
   "execution_count": 18,
   "metadata": {},
   "outputs": [
    {
     "name": "stdout",
     "output_type": "stream",
     "text": [
      "Flavors:\n",
      "{'Chocolate', 'Cookie Dough', 'Vanilla', 'Bubble Gum', 'Strawberry'}\n",
      "Colors:\n",
      "{'pink', 'white', 'brown', 'blue'}\n",
      "Combinations:\n",
      "{('Strawberry', 'pink'), ('Cookie Dough', 'white'), ('Bubble Gum', 'blue'), ('Vanilla', 'white'), ('Bubble Gum', 'pink'), ('Chocolate', 'brown')}\n"
     ]
    }
   ],
   "source": [
    "flavors = set()\n",
    "colors = set()\n",
    "combos = set()\n",
    "\n",
    "for p in iceCreamData:\n",
    "    f = p[0]\n",
    "    c = p[1]\n",
    "    flavors.add(f)\n",
    "    colors.add(c)\n",
    "    combos.add( (f,c) )\n",
    "\n",
    "print(\"Flavors:\")\n",
    "print(flavors)\n",
    "print(\"Colors:\")\n",
    "print(colors)\n",
    "print(\"Combinations:\")\n",
    "print(combos)"
   ]
  },
  {
   "cell_type": "markdown",
   "metadata": {},
   "source": [
    "## 3. Your turn"
   ]
  },
  {
   "cell_type": "markdown",
   "metadata": {},
   "source": [
    "The file `top_movies.csv` contains information about the 200 highest grossing films (unadjusted). Each line contains a Title, Studio, Gross, Adjusted Gross, and Year.  The data is read into a list called `topMovies`"
   ]
  },
  {
   "cell_type": "code",
   "execution_count": 19,
   "metadata": {},
   "outputs": [
    {
     "data": {
      "text/plain": [
       "[('Star Wars: The Force Awakens',\n",
       "  'Buena Vista (Disney)',\n",
       "  '906723418',\n",
       "  '906723400',\n",
       "  '2015'),\n",
       " ('Avatar', 'Fox', '760507625', '846120800', '2009'),\n",
       " ('Titanic', 'Paramount', '658672302', '1178627900', '1997'),\n",
       " ('Jurassic World', 'Universal', '652270625', '687728000', '2015'),\n",
       " (\"Marvel's The Avengers\",\n",
       "  'Buena Vista (Disney)',\n",
       "  '623357910',\n",
       "  '668866600',\n",
       "  '2012'),\n",
       " ('The Dark Knight', 'Warner Bros.', '534858444', '647761600', '2008'),\n",
       " ('Star Wars: Episode I - The Phantom Menace',\n",
       "  'Fox',\n",
       "  '474544677',\n",
       "  '785715000',\n",
       "  '1999'),\n",
       " ('Star Wars', 'Fox', '460998007', '1549640500', '1977'),\n",
       " ('Avengers: Age of Ultron',\n",
       "  'Buena Vista (Disney)',\n",
       "  '459005868',\n",
       "  '465684200',\n",
       "  '2015'),\n",
       " ('The Dark Knight Rises', 'Warner Bros.', '448139099', '500961700', '2012'),\n",
       " ('Shrek 2', 'Dreamworks', '441226247', '618143100', '2004'),\n",
       " ('E.T.: The Extra-Terrestrial',\n",
       "  'Universal',\n",
       "  '435110554',\n",
       "  '1234132700',\n",
       "  '1982'),\n",
       " ('The Hunger Games: Catching Fire',\n",
       "  'Lionsgate',\n",
       "  '424668047',\n",
       "  '444697400',\n",
       "  '2013'),\n",
       " (\"Pirates of the Caribbean: Dead Man's Chest\",\n",
       "  'Buena Vista (Disney)',\n",
       "  '423315812',\n",
       "  '562266800',\n",
       "  '2006'),\n",
       " ('The Lion King', 'Buena Vista (Disney)', '422783777', '775573900', '1994'),\n",
       " ('Toy Story 3', 'Buena Vista (Disney)', '415004880', '454156300', '2010'),\n",
       " ('Iron Man 3', 'Buena Vista (Disney)', '409013994', '424632700', '2013'),\n",
       " ('The Hunger Games', 'Lionsgate', '408010692', '442510400', '2012'),\n",
       " ('Spider-Man', 'Sony', '403706375', '604517300', '2002'),\n",
       " ('Jurassic Park', 'Universal', '402453882', '799721000', '1993'),\n",
       " ('Transformers: Revenge of the Fallen',\n",
       "  'Paramount/Dreamworks',\n",
       "  '402111870',\n",
       "  '468938100',\n",
       "  '2009'),\n",
       " ('Frozen', 'Buena Vista (Disney)', '400738009', '426656900', '2013'),\n",
       " ('Harry Potter and the Deathly Hallows Part 2',\n",
       "  'Warner Bros.',\n",
       "  '381011219',\n",
       "  '417512200',\n",
       "  '2011'),\n",
       " ('Finding Nemo', 'Buena Vista (Disney)', '380843261', '535802700', '2003'),\n",
       " ('Star Wars: Episode III - Revenge of the Sith',\n",
       "  'Fox',\n",
       "  '380270577',\n",
       "  '516123900',\n",
       "  '2005'),\n",
       " ('The Lord of the Rings: The Return of the King',\n",
       "  'New Line',\n",
       "  '377845905',\n",
       "  '536265400',\n",
       "  '2003'),\n",
       " ('Spider-Man 2', 'Sony', '373585825', '523381100', '2004'),\n",
       " ('The Passion of the Christ', 'NM', '370782930', '519432100', '2004'),\n",
       " ('Despicable Me 2', 'Universal', '368061265', '407978700', '2013'),\n",
       " ('Inside Out', 'Buena Vista (Disney)', '356461711', '375723400', '2015'),\n",
       " ('Furious 7', 'Universal', '353007020', '356907000', '2015'),\n",
       " ('Transformers: Dark of the Moon',\n",
       "  'Paramount/Dreamworks',\n",
       "  '352390543',\n",
       "  '385069700',\n",
       "  '2011'),\n",
       " ('American Sniper', 'Warner Bros.', '350126372', '374796000', '2014'),\n",
       " ('The Lord of the Rings: The Two Towers',\n",
       "  'New Line',\n",
       "  '342551365',\n",
       "  '502210000',\n",
       "  '2002'),\n",
       " ('The Hunger Games: Mockingjay - Part 1',\n",
       "  'Lionsgate',\n",
       "  '337135885',\n",
       "  '354324000',\n",
       "  '2014'),\n",
       " ('Spider-Man 3', 'Sony', '336530303', '425554300', '2007'),\n",
       " ('Minions', 'Universal', '336045770', '354213900', '2015'),\n",
       " ('Alice in Wonderland (2010)',\n",
       "  'Buena Vista (Disney)',\n",
       "  '334191110',\n",
       "  '365718600',\n",
       "  '2010'),\n",
       " ('Guardians of the Galaxy',\n",
       "  'Buena Vista (Disney)',\n",
       "  '333176600',\n",
       "  '358244800',\n",
       "  '2014'),\n",
       " ('Forrest Gump', 'Paramount', '330252182', '683929300', '1994'),\n",
       " ('Shrek the Third', 'Paramount/Dreamworks', '322719944', '408090600', '2007'),\n",
       " ('Transformers', 'Paramount/Dreamworks', '319246193', '403697900', '2007'),\n",
       " ('Iron Man', 'Paramount', '318412101', '385808100', '2008'),\n",
       " (\"Harry Potter and the Sorcerer's Stone\",\n",
       "  'Warner Bros.',\n",
       "  '317575550',\n",
       "  '486442900',\n",
       "  '2001'),\n",
       " ('Indiana Jones and the Kingdom of the Crystal Skull',\n",
       "  'Paramount',\n",
       "  '317101119',\n",
       "  '384231200',\n",
       "  '2008'),\n",
       " ('The Lord of the Rings: The Fellowship of the Ring',\n",
       "  'New Line',\n",
       "  '315544750',\n",
       "  '476753700',\n",
       "  '2001'),\n",
       " ('Iron Man 2', 'Paramount', '312433331', '341908200', '2010'),\n",
       " ('Star Wars: Episode II - Attack of the Clones',\n",
       "  'Fox',\n",
       "  '310676740',\n",
       "  '465175700',\n",
       "  '2002'),\n",
       " (\"Pirates of the Caribbean: At World's End\",\n",
       "  'Buena Vista (Disney)',\n",
       "  '309420425',\n",
       "  '391272900',\n",
       "  '2007'),\n",
       " ('Return of the Jedi', 'Fox', '309306177', '818316900', '1983'),\n",
       " ('Independence Day', 'Fox', '306169268', '602639200', '1996'),\n",
       " ('Pirates of the Caribbean: The Curse of the Black Pearl',\n",
       "  'Buena Vista (Disney)',\n",
       "  '305413918',\n",
       "  '440645400',\n",
       "  '2003'),\n",
       " ('Skyfall', 'Sony', '304360277', '329225400', '2012'),\n",
       " ('The Hobbit: An Unexpected Journey',\n",
       "  'Warner Bros. (New Line)',\n",
       "  '303003568',\n",
       "  '329153300',\n",
       "  '2012'),\n",
       " ('Harry Potter and the Half-Blood Prince',\n",
       "  'Warner Bros.',\n",
       "  '301959197',\n",
       "  '352098800',\n",
       "  '2009'),\n",
       " ('The Twilight Saga: Eclipse', 'Sum.', '300531751', '328883800', '2010'),\n",
       " ('The Twilight Saga: New Moon', 'Sum.', '296623634', '338517700', '2009'),\n",
       " ('The Sixth Sense', 'Buena Vista (Disney)', '293506292', '500938400', '1999'),\n",
       " ('Up', 'Buena Vista (Disney)', '293004164', '341681900', '2009'),\n",
       " ('Harry Potter and the Order of the Phoenix',\n",
       "  'Warner Bros.',\n",
       "  '292004738',\n",
       "  '369250200',\n",
       "  '2007'),\n",
       " ('The Chronicles of Narnia: The Lion, the Witch and the Wardrobe',\n",
       "  'Buena Vista (Disney)',\n",
       "  '291710957',\n",
       "  '393033100',\n",
       "  '2005'),\n",
       " ('The Empire Strikes Back', 'Fox', '290475067', '854171500', '1980'),\n",
       " ('Harry Potter and the Goblet of Fire',\n",
       "  'Warner Bros.',\n",
       "  '290013036',\n",
       "  '393024800',\n",
       "  '2005'),\n",
       " ('Monsters, Inc.', 'Buena Vista (Disney)', '289916256', '429372100', '2001'),\n",
       " ('Home Alone', 'Fox', '285761243', '589287500', '1990'),\n",
       " ('The Matrix Reloaded', 'Warner Bros.', '281576461', '406254600', '2003'),\n",
       " ('Meet the Fockers', 'Universal', '279261160', '384305300', '2004'),\n",
       " ('The Hangover', 'Warner Bros.', '277322503', '323343300', '2009'),\n",
       " ('Shrek', 'Dreamworks', '267665011', '411428500', '2001'),\n",
       " ('Harry Potter and the Chamber of Secrets',\n",
       "  'Warner Bros.',\n",
       "  '261988482',\n",
       "  '390768100',\n",
       "  '2002'),\n",
       " ('The Incredibles', 'Buena Vista (Disney)', '261441092', '365660600', '2004'),\n",
       " ('How the Grinch Stole Christmas',\n",
       "  'Universal',\n",
       "  '260044825',\n",
       "  '418529400',\n",
       "  '2000'),\n",
       " ('Jaws', 'Universal', '260000000', '1114285700', '1975'),\n",
       " ('Batman', 'Warner Bros.', '251188924', '547705200', '1989'),\n",
       " ('Night at the Museum', 'Fox', '250863268', '322261900', '2006'),\n",
       " ('Men in Black', 'Sony', '250690539', '475165100', '1997'),\n",
       " ('Harry Potter and the Prisoner of Azkaban',\n",
       "  'Warner Bros.',\n",
       "  '249541069',\n",
       "  '349598600',\n",
       "  '2004'),\n",
       " ('Raiders of the Lost Ark', 'Paramount', '248159971', '770183000', '1981'),\n",
       " ('Toy Story 2', 'Buena Vista (Disney)', '245852179', '416177700', '1999'),\n",
       " ('Cars', 'Buena Vista (Disney)', '244082982', '324201800', '2006'),\n",
       " ('Bruce Almighty', 'Universal', '242829261', '350350700', '2003'),\n",
       " ('Ghostbusters', 'Columbia', '242212467', '619211400', '1984'),\n",
       " ('Twister', 'Warner Bros.', '241721524', '475786700', '1996'),\n",
       " ('My Big Fat Greek Wedding', 'IFC', '241438208', '360349500', '2002'),\n",
       " ('Beverly Hills Cop', 'Paramount', '234760478', '584205200', '1984'),\n",
       " ('Cast Away', 'Fox', '233632142', '364479500', '2000'),\n",
       " ('The Exorcist', 'Warner Bros.', '232906145', '962212800', '1973'),\n",
       " ('The Lost World: Jurassic Park',\n",
       "  'Universal',\n",
       "  '229086679',\n",
       "  '434216600',\n",
       "  '1997'),\n",
       " ('Signs', 'Buena Vista (Disney)', '227966634', '341332700', '2002'),\n",
       " ('Rush Hour 2', 'New Line', '226164286', '347637700', '2001'),\n",
       " ('Mrs. Doubtfire', 'Fox', '219195243', '458354100', '1993'),\n",
       " ('Beauty and the Beast',\n",
       "  'Buena Vista (Disney)',\n",
       "  '218967620',\n",
       "  '394664300',\n",
       "  '1991'),\n",
       " ('Ghost', 'Paramount', '217631306', '447747400', '1990'),\n",
       " ('Aladdin', 'Buena Vista (Disney)', '217350219', '456248400', '1992'),\n",
       " ('Saving Private Ryan', 'Dreamworks', '216540909', '397999500', '1998'),\n",
       " ('Mission: Impossible II', 'Paramount', '215409889', '347693200', '2000'),\n",
       " ('Back to the Future', 'Universal', '210609762', '513740700', '1985'),\n",
       " ('Austin Powers: The Spy Who Shagged Me',\n",
       "  'New Line',\n",
       "  '206040086',\n",
       "  '352863900',\n",
       "  '1999'),\n",
       " ('Terminator 2: Judgment Day', 'TriS', '204843345', '423310500', '1991'),\n",
       " ('Armageddon', 'Buena Vista (Disney)', '201578182', '373929700', '1998'),\n",
       " ('Gone with the Wind', 'MGM', '198676459', '1757788200', '1939'),\n",
       " ('Indiana Jones and the Last Crusade',\n",
       "  'Paramount',\n",
       "  '197171806',\n",
       "  '429923500',\n",
       "  '1989'),\n",
       " ('Toy Story', 'Buena Vista (Disney)', '191796233', '381654400', '1995'),\n",
       " ('Grease', 'Paramount', '188755690', '669632000', '1978'),\n",
       " ('Snow White and the Seven Dwarfs',\n",
       "  'Disney',\n",
       "  '184925486',\n",
       "  '948300000',\n",
       "  '1937'),\n",
       " ('Dances with Wolves', 'Orion', '184208848', '380183900', '1990'),\n",
       " ('Batman Forever', 'Warner Bros.', '184031112', '368062200', '1995'),\n",
       " ('The Fugitive', 'Warner Bros.', '183875760', '386256600', '1993'),\n",
       " ('Liar Liar', 'Universal', '181410615', '343850200', '1997'),\n",
       " ('Mission: Impossible', 'Paramount', '180981856', '356231300', '1996'),\n",
       " ('Indiana Jones and the Temple of Doom',\n",
       "  'Paramount',\n",
       "  '179870271',\n",
       "  '465735500',\n",
       "  '1984'),\n",
       " ('Top Gun', 'Paramount', '179800601', '417818200', '1986'),\n",
       " ('Pretty Woman', 'Buena Vista (Disney)', '178406268', '366934900', '1990'),\n",
       " ('Tootsie', 'Columbia', '177200000', '495064300', '1982'),\n",
       " (\"There's Something About Mary\", 'Fox', '176484651', '326064000', '1998'),\n",
       " ('Crocodile Dundee', 'Paramount', '174803506', '401961400', '1986'),\n",
       " ('Apollo 13', 'Universal', '173837933', '346762300', '1995'),\n",
       " ('Home Alone 2: Lost in New York', 'Fox', '173585516', '364091400', '1992'),\n",
       " ('Air Force One', 'Sony', '172956409', '327752300', '1997'),\n",
       " ('Rain Man', 'MGM', '172825435', '376637800', '1988'),\n",
       " ('Three Men and a Baby',\n",
       "  'Buena Vista (Disney)',\n",
       "  '167780960',\n",
       "  '362822900',\n",
       "  '1987'),\n",
       " ('Robin Hood: Prince of Thieves',\n",
       "  'Warner Bros.',\n",
       "  '165493908',\n",
       "  '341994500',\n",
       "  '1991'),\n",
       " ('Batman Returns', 'Warner Bros.', '162831698', '341358000', '1992'),\n",
       " ('The Sound of Music', 'Fox', '158671368', '1239013800', '1965'),\n",
       " ('The Firm', 'Paramount', '158348367', '332761100', '1993'),\n",
       " ('Fatal Attraction', 'Paramount', '156645693', '345222500', '1987'),\n",
       " ('Who Framed Roger Rabbit',\n",
       "  'Buena Vista (Disney)',\n",
       "  '156452370',\n",
       "  '331176600',\n",
       "  '1988'),\n",
       " ('The Sting', 'Universal', '156000000', '775542900', '1973'),\n",
       " ('Beverly Hills Cop II', 'Paramount', '153665036', '341914500', '1987'),\n",
       " ('Gremlins', 'Warner Bros.', '153083102', '395694800', '1984'),\n",
       " ('Rambo: First Blood Part II', 'TriS', '150415432', '368623700', '1985'),\n",
       " ('Lethal Weapon 2', 'Warner Bros.', '147253986', '322697700', '1989'),\n",
       " ('101 Dalmatians', 'Disney', '144880014', '869280100', '1961'),\n",
       " ('The Jungle Book', 'Disney', '141843612', '641015300', '1967'),\n",
       " (\"National Lampoon's Animal House\",\n",
       "  'Universal',\n",
       "  '141600000',\n",
       "  '521045300',\n",
       "  '1978'),\n",
       " ('The Godfather', 'Paramount', '134966411', '686626300', '1972'),\n",
       " ('Superman', 'Warner Bros.', '134218018', '499015700', '1978'),\n",
       " ('Close Encounters of the Third Kind',\n",
       "  'Columbia',\n",
       "  '132088635',\n",
       "  '483507200',\n",
       "  '1977'),\n",
       " ('An Officer and a Gentleman', 'Paramount', '129795554', '379814600', '1982'),\n",
       " ('Smokey and the Bandit', 'Universal', '126737428', '494446500', '1977'),\n",
       " ('Rocky III', 'UA', '125049125', '369865300', '1982'),\n",
       " ('Blazing Saddles', 'Warner Bros.', '119601481', '550184700', '1974'),\n",
       " ('On Golden Pond', 'Universal', '119285432', '353083700', '1981'),\n",
       " ('Rocky', 'UA', '117235147', '478847800', '1976'),\n",
       " ('The Towering Inferno', 'Fox', '116000000', '533968300', '1974'),\n",
       " ('American Graffiti', 'Universal', '115000000', '571714300', '1973'),\n",
       " ('The Rocky Horror Picture Show', 'Fox', '112892319', '479104000', '1975'),\n",
       " ('Doctor Zhivago', 'MGM', '111721910', '1079978500', '1965'),\n",
       " (\"Porky's\", 'Fox', '111289673', '328182900', '1982'),\n",
       " (\"One Flew Over the Cuckoo's Nest\", 'UA', '108981275', '467062600', '1975'),\n",
       " ('Superman II', 'Warner Bros.', '108185706', '338566800', '1981'),\n",
       " ('Love Story', 'Paramount', '106397186', '608983900', '1970'),\n",
       " ('Kramer Vs. Kramer', 'Columbia', '106260000', '374276100', '1979'),\n",
       " ('The Graduate', 'AVCO', '104945305', '744517700', '1967'),\n",
       " ('9 to 5', 'Fox', '103290500', '334062200', '1980'),\n",
       " ('Butch Cassidy and the Sundance Kid',\n",
       "  'Fox',\n",
       "  '102308889',\n",
       "  '613853300',\n",
       "  '1969'),\n",
       " ('Mary Poppins', 'Disney', '102272727', '680181800', '1964'),\n",
       " ('Bambi', 'RKO', '102247150', '554298300', '1942'),\n",
       " ('Stir Crazy', 'Columbia', '101300000', '327624500', '1980'),\n",
       " ('Airport', 'Universal', '100489151', '575168200', '1970'),\n",
       " ('Saturday Night Fever', 'Paramount', '94213184', '353261200', '1977'),\n",
       " ('Lady and the Tramp', 'Disney', '93602326', '484893500', '1955'),\n",
       " ('Cinderella (1950)', 'Disney', '93141149', '547050200', '1950'),\n",
       " ('Peter Pan', 'Disney', '87404651', '396924700', '1953'),\n",
       " ('Young Frankenstein', 'Fox', '86273333', '397131200', '1974'),\n",
       " ('The Poseidon Adventure', 'Fox', '84563118', '477647100', '1972'),\n",
       " ('Pinocchio', 'Disney', '84254167', '586409000', '1940'),\n",
       " ('M.A.S.H.', 'Fox', '81600000', '467052600', '1970'),\n",
       " ('A Star Is Born (1976)', 'Warner Bros.', '80000000', '326760600', '1976'),\n",
       " ('Earthquake', 'Universal', '79666653', '366719500', '1974'),\n",
       " ('Fantasia', 'Disney', '76408097', '722478200', '1941'),\n",
       " ('Ben-Hur', 'MGM', '74000000', '852600000', '1959'),\n",
       " ('My Fair Lady', 'Warner Bros.', '72000000', '522000000', '1964'),\n",
       " (\"What's Up, Doc?\", 'Warner Bros.', '66000000', '337764700', '1972'),\n",
       " ('The Ten Commandments', 'Paramount', '65500000', '1139700000', '1956'),\n",
       " ('Thunderball', 'UA', '63595658', '650760000', '1965'),\n",
       " ('Patton', 'Fox', '61749765', '346595500', '1970'),\n",
       " ('Cleopatra (1963)', 'Fox', '57777778', '584496100', '1963'),\n",
       " ('2001: A Space Odyssey', 'MGM', '56954992', '377027700', '1968'),\n",
       " (\"Guess Who's Coming to Dinner\", 'Columbia', '56666667', '376335900', '1967'),\n",
       " ('Funny Girl', 'Columbia', '52223306', '348343200', '1968'),\n",
       " ('Sleeping Beauty', 'Disney', '51600000', '632281700', '1959'),\n",
       " ('Goldfinger', 'UA', '51081062', '576810000', '1964'),\n",
       " (\"It's a Mad, Mad, Mad, Mad World\", 'MGM', '46332858', '468716100', '1963'),\n",
       " ('Lawrence of Arabia', 'Columbia', '44824144', '481836900', '1962'),\n",
       " ('West Side Story', 'MGM', '43656822', '486941500', '1961'),\n",
       " ('Around the World in 80 Days', 'UA', '42000000', '562153800', '1956'),\n",
       " ('Swiss Family Robinson', 'Disney', '40356000', '468129600', '1960'),\n",
       " ('Rear Window', 'Paramount', '36764313', '438086300', '1954'),\n",
       " ('The Robe', 'Fox', '36000000', '569454500', '1953'),\n",
       " ('The Greatest Show on Earth', 'Paramount', '36000000', '522000000', '1952'),\n",
       " ('Psycho', 'Universal', '32000000', '371200100', '1960'),\n",
       " ('The Bridge on the River Kwai', 'Columbia', '27200000', '473280000', '1957'),\n",
       " ('House of Wax', 'Warner Bros.', '23750000', '439627700', '1953'),\n",
       " ('The Best Years of Our Lives', 'RKO', '23650000', '478500000', '1946'),\n",
       " ('The Caine Mutiny', 'Columbia', '21750000', '386173500', '1954'),\n",
       " (\"The Bells of St. Mary's\", 'RKO', '21333333', '545882400', '1945'),\n",
       " ('Duel in the Sun', 'Selz.', '20408163', '443877500', '1946'),\n",
       " ('Sergeant York', 'Warner Bros.', '16361885', '418671800', '1941'),\n",
       " ('The Four Horsemen of the Apocalypse',\n",
       "  'MPC',\n",
       "  '9183673',\n",
       "  '399489800',\n",
       "  '1921')]"
      ]
     },
     "execution_count": 19,
     "metadata": {},
     "output_type": "execute_result"
    }
   ],
   "source": [
    "# This part of the code reads the file and produes a list of tuples \n",
    "# containing the data.  Do not change it. Just run it.\n",
    "import csv   \n",
    "\n",
    "file = open('top_movies.csv','r')                    # open file for reading\n",
    "data = csv.reader(file,delimiter=',',quotechar='\"')  # create a csv reader.  this is needed because some titles\n",
    "                                                     # contain commas\n",
    "                                               \n",
    "topMovies = []                                       # create an empty list in which to store the data \n",
    "count = 0\n",
    "for line in data:                                    # process each line of the file\n",
    "    count += 1\n",
    "    if(count==1):                                    # skip the first line which contains column headers\n",
    "        continue\n",
    "    lineData = tuple(line)                           # store the data as a tuple (for consistency with the previous example)\n",
    "    topMovies.append(lineData)                       # add the tuple of data to the topMovies list.\n",
    "    \n",
    "topMovies"
   ]
  },
  {
   "cell_type": "markdown",
   "metadata": {},
   "source": [
    "Determine what studios are on the list and also what years.  Store these in sets and print the results."
   ]
  },
  {
   "cell_type": "code",
   "execution_count": 22,
   "metadata": {},
   "outputs": [
    {
     "name": "stdout",
     "output_type": "stream",
     "text": [
      "{'Lionsgate', 'New Line', 'MPC', 'Paramount', 'Dreamworks', 'Disney', 'TriS', 'Universal', 'Sum.', 'Buena Vista (Disney)', 'Warner Bros. (New Line)', 'RKO', 'MGM', 'Warner Bros.', 'Paramount/Dreamworks', 'Orion', 'NM', 'IFC', 'Selz.', 'UA', 'Sony', 'Columbia', 'AVCO', 'Fox'}\n",
      "\n",
      "{'2010', '2008', '1984', '1994', '1999', '1997', '1973', '2003', '1970', '2001', '1972', '1921', '1941', '1983', '1963', '1992', '1986', '1977', '1996', '2006', '1982', '2004', '1998', '1995', '1974', '1969', '1962', '1965', '1950', '2012', '1976', '1946', '2009', '2005', '1968', '1955', '2002', '1964', '1952', '1961', '2013', '2014', '1978', '1988', '1967', '1987', '1956', '1991', '1939', '1937', '1981', '2000', '1989', '1945', '2015', '2007', '1940', '1953', '1993', '1975', '1979', '1942', '1954', '1960', '1959', '1957', '2011', '1985', '1980', '1990'}\n"
     ]
    }
   ],
   "source": [
    "studios = set()\n",
    "years = set()\n",
    "\n",
    "for movie in topMovies:\n",
    "    s = movie[1]\n",
    "    y = movie[4]\n",
    "    studios.add(s)\n",
    "    years.add(y)\n",
    "\n",
    "print(studios)\n",
    "print()\n",
    "print(years)\n",
    "    "
   ]
  },
  {
   "cell_type": "code",
   "execution_count": null,
   "metadata": {},
   "outputs": [],
   "source": []
  }
 ],
 "metadata": {
  "kernelspec": {
   "display_name": "Python 3",
   "language": "python",
   "name": "python3"
  },
  "language_info": {
   "codemirror_mode": {
    "name": "ipython",
    "version": 3
   },
   "file_extension": ".py",
   "mimetype": "text/x-python",
   "name": "python",
   "nbconvert_exporter": "python",
   "pygments_lexer": "ipython3",
   "version": "3.7.3"
  }
 },
 "nbformat": 4,
 "nbformat_minor": 2
}
